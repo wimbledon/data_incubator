{
 "cells": [
  {
   "cell_type": "code",
   "execution_count": 42,
   "metadata": {},
   "outputs": [],
   "source": [
    "numerals = [\n",
    "        {'letter': 'M', 'value': 1000},\n",
    "        {'letter': 'D', 'value': 500},\n",
    "        {'letter': 'C', 'value': 100},\n",
    "        {'letter': 'L', 'value': 50},\n",
    "        {'letter': 'X', 'value': 10},\n",
    "        {'letter': 'V', 'value': 5},\n",
    "        {'letter': 'I', 'value': 1},\n",
    "    ]\n",
    "\n",
    "def number_to_roman(number):\n",
    "    remainder = number\n",
    "    result = ''\n",
    "    for numeral_index in range(len(numerals)):\n",
    "        numeral = numerals[numeral_index]\n",
    "        next_numeral = numerals[numeral_index + 1] if numeral_index + 1 < len(numerals) else None\n",
    "\n",
    "        factor = int(remainder / numeral['value'])\n",
    "        remainder -= factor * numeral['value']\n",
    "\n",
    "        if next_numeral:\n",
    "            numeral_difference = numeral['value'] - next_numeral['value']\n",
    "            if (remainder - numeral_difference >= 0) and (numeral_difference > next_numeral['value']):\n",
    "                result += next_numeral['letter'] + numeral['letter']\n",
    "                remainder -= numeral_difference\n",
    "                continue\n",
    "\n",
    "        if factor > 0:\n",
    "            result += numeral['letter'] * factor\n",
    "\n",
    "    return result\n",
    "\n",
    "\n",
    "def roman_to_number(roman):\n",
    "    index_by_letter = {}\n",
    "    for index in range(len(numerals)):\n",
    "        index_by_letter[numerals[index]['letter']] = index\n",
    "\n",
    "    result = 0\n",
    "    previous_value = None\n",
    "    for letter in reversed(roman):\n",
    "        index = index_by_letter[letter]\n",
    "        value = numerals[index]['value']\n",
    "        if not previous_value or (previous_value <= value):\n",
    "            result += value\n",
    "        else:\n",
    "            result -= value\n",
    "        previous_value = value\n",
    "\n",
    "    return result"
   ]
  },
  {
   "cell_type": "code",
   "execution_count": 43,
   "metadata": {},
   "outputs": [
    {
     "name": "stdout",
     "output_type": "stream",
     "text": [
      "LX\n",
      "1\n",
      "2\n",
      "3\n",
      "4\n",
      "5\n",
      "6\n",
      "10\n",
      "11\n",
      "111\n",
      "499\n",
      "2018\n"
     ]
    }
   ],
   "source": [
    "print(number_to_roman(60))\n",
    "print(roman_to_number(number_to_roman(1)))\n",
    "print(roman_to_number(number_to_roman(2)))\n",
    "print(roman_to_number(number_to_roman(3)))\n",
    "print(roman_to_number(number_to_roman(4)))\n",
    "print(roman_to_number(number_to_roman(5)))\n",
    "print(roman_to_number(number_to_roman(6)))\n",
    "print(roman_to_number(number_to_roman(10)))\n",
    "print(roman_to_number(number_to_roman(11)))\n",
    "print(roman_to_number(number_to_roman(111)))\n",
    "print(roman_to_number(number_to_roman(499)))\n",
    "print(roman_to_number(number_to_roman(2018)))"
   ]
  },
  {
   "cell_type": "code",
   "execution_count": null,
   "metadata": {},
   "outputs": [],
   "source": []
  }
 ],
 "metadata": {
  "kernelspec": {
   "display_name": "Python 3",
   "language": "python",
   "name": "python3"
  },
  "language_info": {
   "codemirror_mode": {
    "name": "ipython",
    "version": 3
   },
   "file_extension": ".py",
   "mimetype": "text/x-python",
   "name": "python",
   "nbconvert_exporter": "python",
   "pygments_lexer": "ipython3",
   "version": "3.6.5"
  }
 },
 "nbformat": 4,
 "nbformat_minor": 2
}
